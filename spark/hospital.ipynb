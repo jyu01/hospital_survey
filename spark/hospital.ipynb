{
 "cells": [
  {
   "cell_type": "code",
   "execution_count": 1,
   "metadata": {
    "collapsed": true
   },
   "outputs": [],
   "source": [
    "%matplotlib inline"
   ]
  },
  {
   "cell_type": "code",
   "execution_count": 2,
   "metadata": {
    "collapsed": false
   },
   "outputs": [],
   "source": [
    "import findspark\n",
    "import os\n",
    "import sys\n",
    "from matplotlib import pyplot as plt"
   ]
  },
  {
   "cell_type": "code",
   "execution_count": 3,
   "metadata": {
    "collapsed": false
   },
   "outputs": [],
   "source": [
    "os.environ[\"SPARK_HOME\"]=\"/spark\"\n",
    "os.environ[\"PYLIB\"] = os.environ[\"SPARK_HOME\"] + \"/python/lib\"\n",
    "sys.path.insert(0, os.environ[\"PYLIB\"] +\"/py4j-0.9-src.zip\")"
   ]
  },
  {
   "cell_type": "code",
   "execution_count": 4,
   "metadata": {
    "collapsed": false
   },
   "outputs": [],
   "source": [
    "findspark.init()"
   ]
  },
  {
   "cell_type": "code",
   "execution_count": 5,
   "metadata": {
    "collapsed": false
   },
   "outputs": [],
   "source": [
    "from pyspark import SparkConf, SparkContext, SQLContext"
   ]
  },
  {
   "cell_type": "code",
   "execution_count": 6,
   "metadata": {
    "collapsed": false
   },
   "outputs": [],
   "source": [
    "conf = SparkConf().set('spark.executor.instances',1). \\\n",
    "    set(\"spark.executor.memory\", \"5g\").set(\"AppName\", \"testapp\")"
   ]
  },
  {
   "cell_type": "code",
   "execution_count": 7,
   "metadata": {
    "collapsed": false
   },
   "outputs": [],
   "source": [
    "sc = SparkContext(master=\"local\", conf=conf)"
   ]
  },
  {
   "cell_type": "markdown",
   "metadata": {
    "collapsed": true
   },
   "source": [
    "from pyspark.mllib.clustering import KMeans\n",
    "from numpy import array"
   ]
  },
  {
   "cell_type": "markdown",
   "metadata": {
    "collapsed": false
   },
   "source": [
    "training_data = array([[1,1],[2,2],[1,3],[0.5,0],[0.3,3],[0.9,0.8],[0.9,1.2],[1.1,0.8],[1.8,1.5],[0.8,2.1],\n",
    "                 [3.1,3.3],[3.2,2.9],[3,5],[2.9,4.5],[0.3,0.4],[3,3],[4,4],[3.5,3.1],[3.9,4.2],[2.5,2.9]])"
   ]
  },
  {
   "cell_type": "markdown",
   "metadata": {
    "collapsed": true
   },
   "source": [
    "dist_training_data = sc.parallelize(training_data)"
   ]
  },
  {
   "cell_type": "markdown",
   "metadata": {
    "collapsed": false
   },
   "source": [
    "clusters = KMeans.train(dist_training_data, 2, maxIterations=10, runs=10, initializationMode=\"random\")"
   ]
  },
  {
   "cell_type": "markdown",
   "metadata": {
    "collapsed": false
   },
   "source": [
    "clusters.centers"
   ]
  },
  {
   "cell_type": "markdown",
   "metadata": {
    "collapsed": false
   },
   "source": [
    "clusters.predict([1,4])"
   ]
  },
  {
   "cell_type": "markdown",
   "metadata": {
    "collapsed": false
   },
   "source": [
    "clusters.predict([1,3])"
   ]
  },
  {
   "cell_type": "markdown",
   "metadata": {
    "collapsed": false
   },
   "source": [
    "plt.scatter(*zip(*training_data), color='r', marker='*') \n",
    "plt.scatter(*zip(*clusters.centers), color='g', marker='s')"
   ]
  },
  {
   "cell_type": "code",
   "execution_count": 8,
   "metadata": {
    "collapsed": true
   },
   "outputs": [],
   "source": [
    "sqlcontext=SQLContext(sc)"
   ]
  },
  {
   "cell_type": "code",
   "execution_count": 9,
   "metadata": {
    "collapsed": true
   },
   "outputs": [],
   "source": [
    "datafile = '/Users/Oldjun/Desktop/webapp/hospital/data/Mercy_HCAHPS_Survey_BXTN_04282016.dsv'"
   ]
  },
  {
   "cell_type": "markdown",
   "metadata": {
    "collapsed": false
   },
   "source": [
    "df=sqlcontext.read.text(datafile)"
   ]
  },
  {
   "cell_type": "markdown",
   "metadata": {
    "collapsed": false
   },
   "source": [
    "df.head(2)"
   ]
  },
  {
   "cell_type": "code",
   "execution_count": 10,
   "metadata": {
    "collapsed": false
   },
   "outputs": [],
   "source": [
    "df = sqlcontext.read.format(\"com.databricks.spark.csv\")\\\n",
    ".option(\"header\", \"true\").option(\"inferschema\", \"true\")\\\n",
    ".option(\"mode\", \"DROPMALFORMED\")\\\n",
    ".option(\"delimiter\",\"|\")\\\n",
    ".load(datafile)"
   ]
  },
  {
   "cell_type": "code",
   "execution_count": 11,
   "metadata": {
    "collapsed": false
   },
   "outputs": [
    {
     "data": {
      "text/plain": [
       "[('SRVY_DESCR', 'string'),\n",
       " ('HOSP_ADMSN_TSP', 'int'),\n",
       " ('HOSP_DSCHRG_TSP', 'int'),\n",
       " ('PTNT_ORIG_LOCTN_CD', 'string'),\n",
       " ('ADMSN_SRC_CD', 'int'),\n",
       " ('ADMSN_SRC_NM', 'string'),\n",
       " ('DSCHRG_DSPTN_CD', 'int'),\n",
       " ('DSCHRG_DSPTN_NM', 'string'),\n",
       " ('HOSP_SRVC_CD', 'int'),\n",
       " ('HOSP_SRVC_NM', 'string'),\n",
       " ('PTNT_ENCNTR_CSN_ID', 'string'),\n",
       " ('PTNT_MRN_NBR', 'string'),\n",
       " ('ST_CD', 'string'),\n",
       " ('ZIP_CD', 'int'),\n",
       " ('PTNT_AGE_QTY', 'string'),\n",
       " ('PTNT_BIRTH_DT', 'int'),\n",
       " ('PTNT_RACE_CD', 'int'),\n",
       " ('PTNT_RACE_TXT', 'string'),\n",
       " ('PTNT_GENDER_ABBR', 'string'),\n",
       " ('PTNT_RLGN_CD', 'int'),\n",
       " ('PTNT_RLGN_TXT', 'string'),\n",
       " ('PTNT_LANG_CD', 'string'),\n",
       " ('PTNT_LANG_NM', 'string'),\n",
       " ('SRVC_AREA_ID', 'int'),\n",
       " ('SRVC_AREA_NM', 'string'),\n",
       " ('LOCTN_ID', 'int'),\n",
       " ('LOCTN_NM', 'string'),\n",
       " ('DEPT_ID', 'int'),\n",
       " ('DEPT_NM', 'string'),\n",
       " ('DEPT_SPCLTY_NM', 'string'),\n",
       " ('LGTH_OF_STAY_QTY', 'int'),\n",
       " ('BNFT_PLAN_ID', 'int'),\n",
       " ('BNFT_PLAN_NM', 'string'),\n",
       " ('DRG_MPI_CD', 'int'),\n",
       " ('DRG_NM', 'string'),\n",
       " ('PRMRY_DX_CD', 'string'),\n",
       " ('PRMRY_DX_NM', 'string'),\n",
       " ('PRMRY_PROC_ID', 'string'),\n",
       " ('PRMRY_PROC_NM', 'string'),\n",
       " ('VNDR_SRVC_TYP_CD', 'double'),\n",
       " ('VNDR_SRVC_TYP_NM', 'string'),\n",
       " ('MRCY_SRVC_TYP_CD', 'string'),\n",
       " ('MRCY_SRVC_TYP_NM', 'string'),\n",
       " ('QUES_ID', 'int'),\n",
       " ('QUES_SHORT_TXT', 'string'),\n",
       " ('ANSWR_ID', 'int'),\n",
       " ('ANSWR_TXT', 'string'),\n",
       " ('BXNT_GENDER', 'string'),\n",
       " ('BXTN_DOB', 'int'),\n",
       " ('BXTN_RACE', 'string'),\n",
       " ('BXTN_RELIGION', 'string'),\n",
       " ('BXTN_LANGUAGE', 'string'),\n",
       " ('BXTN_FACILITY', 'string'),\n",
       " ('BXTN_LGTH_OF_STAY', 'int'),\n",
       " ('BXTN_PAYOR_GRP', 'string'),\n",
       " ('BXTN_INCOME_DESC', 'string'),\n",
       " ('BXTN_EDUCATION_LEVEL', 'string')]"
      ]
     },
     "execution_count": 11,
     "metadata": {},
     "output_type": "execute_result"
    }
   ],
   "source": [
    "df.dtypes"
   ]
  },
  {
   "cell_type": "code",
   "execution_count": 12,
   "metadata": {
    "collapsed": false
   },
   "outputs": [],
   "source": [
    "df1=df.filter(df[\"ANSWR_ID\"]>0).filter(df[\"ST_CD\"]=='MO').filter(df[\"QUES_ID\"]<= 145)"
   ]
  },
  {
   "cell_type": "code",
   "execution_count": 13,
   "metadata": {
    "collapsed": false
   },
   "outputs": [
    {
     "data": {
      "text/plain": [
       "Row(SRVY_DESCR=u'PSS-INPTNT GEN', HOSP_ADMSN_TSP=2013, HOSP_DSCHRG_TSP=2013, PTNT_ORIG_LOCTN_CD=u'ER', ADMSN_SRC_CD=1, ADMSN_SRC_NM=u'Non-Health Care Facility Point of Origin', DSCHRG_DSPTN_CD=12001, DSCHRG_DSPTN_NM=u'Home or Self Care', HOSP_SRVC_CD=12017, HOSP_SRVC_NM=u'Medical', PTNT_ENCNTR_CSN_ID=u'PHI', PTNT_MRN_NBR=u'PHI', ST_CD=u'MO', ZIP_CD=630, PTNT_AGE_QTY=u'58', PTNT_BIRTH_DT=1954, PTNT_RACE_CD=12012, PTNT_RACE_TXT=u'Caucasian', PTNT_GENDER_ABBR=u'F', PTNT_RLGN_CD=12063, PTNT_RLGN_TXT=u'NONDENOMINATIONAL', PTNT_LANG_CD=u'120140', PTNT_LANG_NM=u'English', SRVC_AREA_ID=12035, SRVC_AREA_NM=u'MERCY HEALTH EAST COMMUNITIES', LOCTN_ID=12049, LOCTN_NM=u'PARENT MERCY HOSPITAL ST LOUIS', DEPT_ID=130754, DEPT_NM=u'STLO MEDICAL SURGICAL 6', DEPT_SPCLTY_NM=u'Multi Specialty', LGTH_OF_STAY_QTY=2, BNFT_PLAN_ID=4881, BNFT_PLAN_NM=u'MEDICARE PART A AND B', DRG_MPI_CD=None, DRG_NM=u'', PRMRY_DX_CD=u'', PRMRY_DX_NM=u'', PRMRY_PROC_ID=u'', PRMRY_PROC_NM=u'', VNDR_SRVC_TYP_CD=100.3, VNDR_SRVC_TYP_NM=u'Inpatient Medical/Surgical', MRCY_SRVC_TYP_CD=u'', MRCY_SRVC_TYP_NM=u'', QUES_ID=143, QUES_SHORT_TXT=u'Staff Took Into Account Preferences When Deciding Health Care Needs', ANSWR_ID=4, ANSWR_TXT=u'Strongly Agree', BXNT_GENDER=u'F', BXTN_DOB=1954, BXTN_RACE=u'Caucasian', BXTN_RELIGION=u'NONDENOMINATIONAL', BXTN_LANGUAGE=u'English', BXTN_FACILITY=u'PARENT MERCY HOSPITAL ST LOUIS', BXTN_LGTH_OF_STAY=2, BXTN_PAYOR_GRP=u'SELF PAY', BXTN_INCOME_DESC=u'$75,000-$99,999', BXTN_EDUCATION_LEVEL=u'SOME COLLEGE')"
      ]
     },
     "execution_count": 13,
     "metadata": {},
     "output_type": "execute_result"
    }
   ],
   "source": [
    "df1.head()"
   ]
  },
  {
   "cell_type": "code",
   "execution_count": 14,
   "metadata": {
    "collapsed": false
   },
   "outputs": [
    {
     "data": {
      "text/plain": [
       "355323"
      ]
     },
     "execution_count": 14,
     "metadata": {},
     "output_type": "execute_result"
    }
   ],
   "source": [
    "df1.count()"
   ]
  },
  {
   "cell_type": "markdown",
   "metadata": {},
   "source": [
    "#create column age"
   ]
  },
  {
   "cell_type": "code",
   "execution_count": 15,
   "metadata": {
    "collapsed": true
   },
   "outputs": [],
   "source": [
    "from pyspark.sql.functions import lit,substring"
   ]
  },
  {
   "cell_type": "code",
   "execution_count": 16,
   "metadata": {
    "collapsed": false
   },
   "outputs": [],
   "source": [
    "df2=df1.withColumn(\"age\",lit(0))"
   ]
  },
  {
   "cell_type": "code",
   "execution_count": 17,
   "metadata": {
    "collapsed": false
   },
   "outputs": [],
   "source": [
    "df3=df2.withColumn(\"age\",substring(df2[\"PTNT_AGE_QTY\"],1,2))"
   ]
  },
  {
   "cell_type": "code",
   "execution_count": 18,
   "metadata": {
    "collapsed": false
   },
   "outputs": [
    {
     "data": {
      "text/plain": [
       "Row(SRVY_DESCR=u'PSS-INPTNT GEN', HOSP_ADMSN_TSP=2013, HOSP_DSCHRG_TSP=2013, PTNT_ORIG_LOCTN_CD=u'ER', ADMSN_SRC_CD=1, ADMSN_SRC_NM=u'Non-Health Care Facility Point of Origin', DSCHRG_DSPTN_CD=12001, DSCHRG_DSPTN_NM=u'Home or Self Care', HOSP_SRVC_CD=12017, HOSP_SRVC_NM=u'Medical', PTNT_ENCNTR_CSN_ID=u'PHI', PTNT_MRN_NBR=u'PHI', ST_CD=u'MO', ZIP_CD=630, PTNT_AGE_QTY=u'58', PTNT_BIRTH_DT=1954, PTNT_RACE_CD=12012, PTNT_RACE_TXT=u'Caucasian', PTNT_GENDER_ABBR=u'F', PTNT_RLGN_CD=12063, PTNT_RLGN_TXT=u'NONDENOMINATIONAL', PTNT_LANG_CD=u'120140', PTNT_LANG_NM=u'English', SRVC_AREA_ID=12035, SRVC_AREA_NM=u'MERCY HEALTH EAST COMMUNITIES', LOCTN_ID=12049, LOCTN_NM=u'PARENT MERCY HOSPITAL ST LOUIS', DEPT_ID=130754, DEPT_NM=u'STLO MEDICAL SURGICAL 6', DEPT_SPCLTY_NM=u'Multi Specialty', LGTH_OF_STAY_QTY=2, BNFT_PLAN_ID=4881, BNFT_PLAN_NM=u'MEDICARE PART A AND B', DRG_MPI_CD=None, DRG_NM=u'', PRMRY_DX_CD=u'', PRMRY_DX_NM=u'', PRMRY_PROC_ID=u'', PRMRY_PROC_NM=u'', VNDR_SRVC_TYP_CD=100.3, VNDR_SRVC_TYP_NM=u'Inpatient Medical/Surgical', MRCY_SRVC_TYP_CD=u'', MRCY_SRVC_TYP_NM=u'', QUES_ID=143, QUES_SHORT_TXT=u'Staff Took Into Account Preferences When Deciding Health Care Needs', ANSWR_ID=4, ANSWR_TXT=u'Strongly Agree', BXNT_GENDER=u'F', BXTN_DOB=1954, BXTN_RACE=u'Caucasian', BXTN_RELIGION=u'NONDENOMINATIONAL', BXTN_LANGUAGE=u'English', BXTN_FACILITY=u'PARENT MERCY HOSPITAL ST LOUIS', BXTN_LGTH_OF_STAY=2, BXTN_PAYOR_GRP=u'SELF PAY', BXTN_INCOME_DESC=u'$75,000-$99,999', BXTN_EDUCATION_LEVEL=u'SOME COLLEGE', age=0)"
      ]
     },
     "execution_count": 18,
     "metadata": {},
     "output_type": "execute_result"
    }
   ],
   "source": [
    "df2.head()"
   ]
  },
  {
   "cell_type": "code",
   "execution_count": 19,
   "metadata": {
    "collapsed": false
   },
   "outputs": [
    {
     "data": {
      "text/plain": [
       "Row(SRVY_DESCR=u'PSS-INPTNT GEN', HOSP_ADMSN_TSP=2013, HOSP_DSCHRG_TSP=2013, PTNT_ORIG_LOCTN_CD=u'ER', ADMSN_SRC_CD=1, ADMSN_SRC_NM=u'Non-Health Care Facility Point of Origin', DSCHRG_DSPTN_CD=12001, DSCHRG_DSPTN_NM=u'Home or Self Care', HOSP_SRVC_CD=12017, HOSP_SRVC_NM=u'Medical', PTNT_ENCNTR_CSN_ID=u'PHI', PTNT_MRN_NBR=u'PHI', ST_CD=u'MO', ZIP_CD=630, PTNT_AGE_QTY=u'58', PTNT_BIRTH_DT=1954, PTNT_RACE_CD=12012, PTNT_RACE_TXT=u'Caucasian', PTNT_GENDER_ABBR=u'F', PTNT_RLGN_CD=12063, PTNT_RLGN_TXT=u'NONDENOMINATIONAL', PTNT_LANG_CD=u'120140', PTNT_LANG_NM=u'English', SRVC_AREA_ID=12035, SRVC_AREA_NM=u'MERCY HEALTH EAST COMMUNITIES', LOCTN_ID=12049, LOCTN_NM=u'PARENT MERCY HOSPITAL ST LOUIS', DEPT_ID=130754, DEPT_NM=u'STLO MEDICAL SURGICAL 6', DEPT_SPCLTY_NM=u'Multi Specialty', LGTH_OF_STAY_QTY=2, BNFT_PLAN_ID=4881, BNFT_PLAN_NM=u'MEDICARE PART A AND B', DRG_MPI_CD=None, DRG_NM=u'', PRMRY_DX_CD=u'', PRMRY_DX_NM=u'', PRMRY_PROC_ID=u'', PRMRY_PROC_NM=u'', VNDR_SRVC_TYP_CD=100.3, VNDR_SRVC_TYP_NM=u'Inpatient Medical/Surgical', MRCY_SRVC_TYP_CD=u'', MRCY_SRVC_TYP_NM=u'', QUES_ID=143, QUES_SHORT_TXT=u'Staff Took Into Account Preferences When Deciding Health Care Needs', ANSWR_ID=4, ANSWR_TXT=u'Strongly Agree', BXNT_GENDER=u'F', BXTN_DOB=1954, BXTN_RACE=u'Caucasian', BXTN_RELIGION=u'NONDENOMINATIONAL', BXTN_LANGUAGE=u'English', BXTN_FACILITY=u'PARENT MERCY HOSPITAL ST LOUIS', BXTN_LGTH_OF_STAY=2, BXTN_PAYOR_GRP=u'SELF PAY', BXTN_INCOME_DESC=u'$75,000-$99,999', BXTN_EDUCATION_LEVEL=u'SOME COLLEGE', age=u'58')"
      ]
     },
     "execution_count": 19,
     "metadata": {},
     "output_type": "execute_result"
    }
   ],
   "source": [
    "df3.head()"
   ]
  },
  {
   "cell_type": "code",
   "execution_count": 20,
   "metadata": {
    "collapsed": false
   },
   "outputs": [],
   "source": [
    "df4=df3.withColumn(\"age\",df3.age.cast(\"int\"))"
   ]
  },
  {
   "cell_type": "code",
   "execution_count": 21,
   "metadata": {
    "collapsed": false
   },
   "outputs": [
    {
     "data": {
      "text/plain": [
       "Row(SRVY_DESCR=u'PSS-INPTNT GEN', HOSP_ADMSN_TSP=2013, HOSP_DSCHRG_TSP=2013, PTNT_ORIG_LOCTN_CD=u'ER', ADMSN_SRC_CD=1, ADMSN_SRC_NM=u'Non-Health Care Facility Point of Origin', DSCHRG_DSPTN_CD=12001, DSCHRG_DSPTN_NM=u'Home or Self Care', HOSP_SRVC_CD=12017, HOSP_SRVC_NM=u'Medical', PTNT_ENCNTR_CSN_ID=u'PHI', PTNT_MRN_NBR=u'PHI', ST_CD=u'MO', ZIP_CD=630, PTNT_AGE_QTY=u'58', PTNT_BIRTH_DT=1954, PTNT_RACE_CD=12012, PTNT_RACE_TXT=u'Caucasian', PTNT_GENDER_ABBR=u'F', PTNT_RLGN_CD=12063, PTNT_RLGN_TXT=u'NONDENOMINATIONAL', PTNT_LANG_CD=u'120140', PTNT_LANG_NM=u'English', SRVC_AREA_ID=12035, SRVC_AREA_NM=u'MERCY HEALTH EAST COMMUNITIES', LOCTN_ID=12049, LOCTN_NM=u'PARENT MERCY HOSPITAL ST LOUIS', DEPT_ID=130754, DEPT_NM=u'STLO MEDICAL SURGICAL 6', DEPT_SPCLTY_NM=u'Multi Specialty', LGTH_OF_STAY_QTY=2, BNFT_PLAN_ID=4881, BNFT_PLAN_NM=u'MEDICARE PART A AND B', DRG_MPI_CD=None, DRG_NM=u'', PRMRY_DX_CD=u'', PRMRY_DX_NM=u'', PRMRY_PROC_ID=u'', PRMRY_PROC_NM=u'', VNDR_SRVC_TYP_CD=100.3, VNDR_SRVC_TYP_NM=u'Inpatient Medical/Surgical', MRCY_SRVC_TYP_CD=u'', MRCY_SRVC_TYP_NM=u'', QUES_ID=143, QUES_SHORT_TXT=u'Staff Took Into Account Preferences When Deciding Health Care Needs', ANSWR_ID=4, ANSWR_TXT=u'Strongly Agree', BXNT_GENDER=u'F', BXTN_DOB=1954, BXTN_RACE=u'Caucasian', BXTN_RELIGION=u'NONDENOMINATIONAL', BXTN_LANGUAGE=u'English', BXTN_FACILITY=u'PARENT MERCY HOSPITAL ST LOUIS', BXTN_LGTH_OF_STAY=2, BXTN_PAYOR_GRP=u'SELF PAY', BXTN_INCOME_DESC=u'$75,000-$99,999', BXTN_EDUCATION_LEVEL=u'SOME COLLEGE', age=58)"
      ]
     },
     "execution_count": 21,
     "metadata": {},
     "output_type": "execute_result"
    }
   ],
   "source": [
    "df4.head()"
   ]
  },
  {
   "cell_type": "code",
   "execution_count": 22,
   "metadata": {
    "collapsed": true
   },
   "outputs": [],
   "source": [
    "sqlcontext.registerDataFrameAsTable(df4, \"table4\")"
   ]
  },
  {
   "cell_type": "code",
   "execution_count": 23,
   "metadata": {
    "collapsed": false
   },
   "outputs": [],
   "source": [
    "df_data2=sqlcontext.sql(\"select\\\n",
    "               age,\\\n",
    "               BXNT_GENDER,\\\n",
    "               BXTN_RACE,\\\n",
    "               BXTN_RELIGION,\\\n",
    "               BXTN_LANGUAGE,\\\n",
    "               BXTN_FACILITY,\\\n",
    "               BXTN_LGTH_OF_STAY,\\\n",
    "               BXTN_PAYOR_GRP,\\\n",
    "               BXTN_INCOME_DESC,\\\n",
    "               BXTN_EDUCATION_LEVEL,\\\n",
    "               PRMRY_DX_CD,\\\n",
    "               PRMRY_PROC_ID,\\\n",
    "               DRG_MPI_CD,\\\n",
    "               BNFT_PLAN_ID,\\\n",
    "               QUES_ID,\\\n",
    "               ANSWR_ID\\\n",
    "               from table4\")"
   ]
  },
  {
   "cell_type": "code",
   "execution_count": 24,
   "metadata": {
    "collapsed": false
   },
   "outputs": [
    {
     "data": {
      "text/plain": [
       "Row(age=58, BXNT_GENDER=u'F', BXTN_RACE=u'Caucasian', BXTN_RELIGION=u'NONDENOMINATIONAL', BXTN_LANGUAGE=u'English', BXTN_FACILITY=u'PARENT MERCY HOSPITAL ST LOUIS', BXTN_LGTH_OF_STAY=2, BXTN_PAYOR_GRP=u'SELF PAY', BXTN_INCOME_DESC=u'$75,000-$99,999', BXTN_EDUCATION_LEVEL=u'SOME COLLEGE', PRMRY_DX_CD=u'', PRMRY_PROC_ID=u'', DRG_MPI_CD=None, BNFT_PLAN_ID=4881, QUES_ID=143, ANSWR_ID=4)"
      ]
     },
     "execution_count": 24,
     "metadata": {},
     "output_type": "execute_result"
    }
   ],
   "source": [
    "df_data2.head()"
   ]
  },
  {
   "cell_type": "code",
   "execution_count": 25,
   "metadata": {
    "collapsed": false
   },
   "outputs": [
    {
     "name": "stdout",
     "output_type": "stream",
     "text": [
      "+--------+\n",
      "|ANSWR_ID|\n",
      "+--------+\n",
      "|       4|\n",
      "|       4|\n",
      "|       4|\n",
      "|       1|\n",
      "|       1|\n",
      "|       1|\n",
      "|       1|\n",
      "|       3|\n",
      "|       3|\n",
      "|       4|\n",
      "|       4|\n",
      "|       1|\n",
      "|       4|\n",
      "|       4|\n",
      "|       4|\n",
      "|       4|\n",
      "|       2|\n",
      "|       1|\n",
      "|       3|\n",
      "|       2|\n",
      "+--------+\n",
      "only showing top 20 rows\n",
      "\n"
     ]
    }
   ],
   "source": [
    "df_data2.select(df_data2[\"ANSWR_ID\"]).show()"
   ]
  },
  {
   "cell_type": "code",
   "execution_count": 26,
   "metadata": {
    "collapsed": false
   },
   "outputs": [
    {
     "name": "stdout",
     "output_type": "stream",
     "text": [
      "+-------+------------------+\n",
      "|summary|          ANSWR_ID|\n",
      "+-------+------------------+\n",
      "|  count|            355323|\n",
      "|   mean|2.8512283190224106|\n",
      "| stddev|1.8608650145247863|\n",
      "|    min|                 1|\n",
      "|    max|                88|\n",
      "+-------+------------------+\n",
      "\n"
     ]
    }
   ],
   "source": [
    "df_data2.describe(\"ANSWR_ID\").show()"
   ]
  },
  {
   "cell_type": "code",
   "execution_count": 27,
   "metadata": {
    "collapsed": false
   },
   "outputs": [],
   "source": [
    "df_data3=df_data2.groupBy('age','BXNT_GENDER',\\\n",
    "                'BXTN_RACE',\\\n",
    "               'BXTN_RELIGION',\\\n",
    "               'BXTN_LANGUAGE',\\\n",
    "               'BXTN_FACILITY',\\\n",
    "               'BXTN_LGTH_OF_STAY',\\\n",
    "               'BXTN_PAYOR_GRP',\\\n",
    "               'BXTN_INCOME_DESC',\\\n",
    "               'BXTN_EDUCATION_LEVEL',\\\n",
    "               'PRMRY_DX_CD',\\\n",
    "               'PRMRY_PROC_ID',\\\n",
    "               'DRG_MPI_CD',\\\n",
    "               'BNFT_PLAN_ID')\\\n",
    "               .pivot(\"QUES_ID\").avg(\"ANSWR_ID\")"
   ]
  },
  {
   "cell_type": "code",
   "execution_count": 28,
   "metadata": {
    "collapsed": false
   },
   "outputs": [
    {
     "name": "stdout",
     "output_type": "stream",
     "text": [
      "+---+-----------+---------+-----------------+-------------+--------------------+-----------------+--------------+----------------+--------------------+-----------+-------------+----------+------------+-------+--------+\n",
      "|age|BXNT_GENDER|BXTN_RACE|    BXTN_RELIGION|BXTN_LANGUAGE|       BXTN_FACILITY|BXTN_LGTH_OF_STAY|BXTN_PAYOR_GRP|BXTN_INCOME_DESC|BXTN_EDUCATION_LEVEL|PRMRY_DX_CD|PRMRY_PROC_ID|DRG_MPI_CD|BNFT_PLAN_ID|QUES_ID|ANSWR_ID|\n",
      "+---+-----------+---------+-----------------+-------------+--------------------+-----------------+--------------+----------------+--------------------+-----------+-------------+----------+------------+-------+--------+\n",
      "| 58|          F|Caucasian|NONDENOMINATIONAL|      English|PARENT MERCY HOSP...|                2|      SELF PAY| $75,000-$99,999|        SOME COLLEGE|           |             |      null|        4881|    143|       4|\n",
      "| 58|          F|Caucasian|NONDENOMINATIONAL|      English|PARENT MERCY HOSP...|                2|      SELF PAY| $75,000-$99,999|        SOME COLLEGE|           |             |      null|        4881|    145|       4|\n",
      "| 58|          F|Caucasian|NONDENOMINATIONAL|      English|PARENT MERCY HOSP...|                2|      SELF PAY| $75,000-$99,999|        SOME COLLEGE|           |             |      null|        4881|    144|       4|\n",
      "| 58|          F|Caucasian|NONDENOMINATIONAL|      English|PARENT MERCY HOSP...|                2|      SELF PAY| $75,000-$99,999|        SOME COLLEGE|           |             |      null|        4881|     70|       1|\n",
      "| 58|          F|Caucasian|NONDENOMINATIONAL|      English|PARENT MERCY HOSP...|                2|      SELF PAY| $75,000-$99,999|        SOME COLLEGE|           |             |      null|        4881|     73|       1|\n",
      "+---+-----------+---------+-----------------+-------------+--------------------+-----------------+--------------+----------------+--------------------+-----------+-------------+----------+------------+-------+--------+\n",
      "only showing top 5 rows\n",
      "\n"
     ]
    }
   ],
   "source": [
    "df_data2.show(5)"
   ]
  },
  {
   "cell_type": "markdown",
   "metadata": {},
   "source": [
    "df_data3.show(2)"
   ]
  },
  {
   "cell_type": "code",
   "execution_count": 29,
   "metadata": {
    "collapsed": false
   },
   "outputs": [],
   "source": [
    "df_test=df_data2.groupBy('age','BXNT_GENDER',\\\n",
    "                'BXTN_RACE',\\\n",
    "               'BXTN_RELIGION',\\\n",
    "               'BXTN_LANGUAGE',\\\n",
    "               'BXTN_FACILITY',\\\n",
    "               'BXTN_LGTH_OF_STAY',\\\n",
    "               'BXTN_PAYOR_GRP',\\\n",
    "               'BXTN_INCOME_DESC',\\\n",
    "               'BXTN_EDUCATION_LEVEL',\\\n",
    "               'PRMRY_DX_CD',\\\n",
    "               'PRMRY_PROC_ID',\\\n",
    "               'DRG_MPI_CD',\\\n",
    "               'BNFT_PLAN_ID')\\\n",
    "               .pivot(\"QUES_ID\").count()"
   ]
  },
  {
   "cell_type": "code",
   "execution_count": 30,
   "metadata": {
    "collapsed": false
   },
   "outputs": [
    {
     "data": {
      "text/plain": [
       "['age',\n",
       " 'BXNT_GENDER',\n",
       " 'BXTN_RACE',\n",
       " 'BXTN_RELIGION',\n",
       " 'BXTN_LANGUAGE',\n",
       " 'BXTN_FACILITY',\n",
       " 'BXTN_LGTH_OF_STAY',\n",
       " 'BXTN_PAYOR_GRP',\n",
       " 'BXTN_INCOME_DESC',\n",
       " 'BXTN_EDUCATION_LEVEL',\n",
       " 'PRMRY_DX_CD',\n",
       " 'PRMRY_PROC_ID',\n",
       " 'DRG_MPI_CD',\n",
       " 'BNFT_PLAN_ID',\n",
       " '13',\n",
       " '14',\n",
       " '15',\n",
       " '16',\n",
       " '17',\n",
       " '18',\n",
       " '19',\n",
       " '20',\n",
       " '21',\n",
       " '22',\n",
       " '23',\n",
       " '24',\n",
       " '25',\n",
       " '26',\n",
       " '27',\n",
       " '28',\n",
       " '29',\n",
       " '30',\n",
       " '31',\n",
       " '32',\n",
       " '33',\n",
       " '34',\n",
       " '45',\n",
       " '46',\n",
       " '47',\n",
       " '48',\n",
       " '49',\n",
       " '50',\n",
       " '51',\n",
       " '52',\n",
       " '53',\n",
       " '54',\n",
       " '55',\n",
       " '56',\n",
       " '57',\n",
       " '58',\n",
       " '59',\n",
       " '60',\n",
       " '61',\n",
       " '62',\n",
       " '63',\n",
       " '64',\n",
       " '65',\n",
       " '67',\n",
       " '69',\n",
       " '70',\n",
       " '73',\n",
       " '143',\n",
       " '144',\n",
       " '145']"
      ]
     },
     "execution_count": 30,
     "metadata": {},
     "output_type": "execute_result"
    }
   ],
   "source": [
    "df_data3.columns"
   ]
  },
  {
   "cell_type": "code",
   "execution_count": 31,
   "metadata": {
    "collapsed": false
   },
   "outputs": [
    {
     "data": {
      "text/plain": [
       "[('age', 'int'),\n",
       " ('BXNT_GENDER', 'string'),\n",
       " ('BXTN_RACE', 'string'),\n",
       " ('BXTN_RELIGION', 'string'),\n",
       " ('BXTN_LANGUAGE', 'string'),\n",
       " ('BXTN_FACILITY', 'string'),\n",
       " ('BXTN_LGTH_OF_STAY', 'int'),\n",
       " ('BXTN_PAYOR_GRP', 'string'),\n",
       " ('BXTN_INCOME_DESC', 'string'),\n",
       " ('BXTN_EDUCATION_LEVEL', 'string'),\n",
       " ('PRMRY_DX_CD', 'string'),\n",
       " ('PRMRY_PROC_ID', 'string'),\n",
       " ('DRG_MPI_CD', 'int'),\n",
       " ('BNFT_PLAN_ID', 'int'),\n",
       " ('13', 'double'),\n",
       " ('14', 'double'),\n",
       " ('15', 'double'),\n",
       " ('16', 'double'),\n",
       " ('17', 'double'),\n",
       " ('18', 'double'),\n",
       " ('19', 'double'),\n",
       " ('20', 'double'),\n",
       " ('21', 'double'),\n",
       " ('22', 'double'),\n",
       " ('23', 'double'),\n",
       " ('24', 'double'),\n",
       " ('25', 'double'),\n",
       " ('26', 'double'),\n",
       " ('27', 'double'),\n",
       " ('28', 'double'),\n",
       " ('29', 'double'),\n",
       " ('30', 'double'),\n",
       " ('31', 'double'),\n",
       " ('32', 'double'),\n",
       " ('33', 'double'),\n",
       " ('34', 'double'),\n",
       " ('45', 'double'),\n",
       " ('46', 'double'),\n",
       " ('47', 'double'),\n",
       " ('48', 'double'),\n",
       " ('49', 'double'),\n",
       " ('50', 'double'),\n",
       " ('51', 'double'),\n",
       " ('52', 'double'),\n",
       " ('53', 'double'),\n",
       " ('54', 'double'),\n",
       " ('55', 'double'),\n",
       " ('56', 'double'),\n",
       " ('57', 'double'),\n",
       " ('58', 'double'),\n",
       " ('59', 'double'),\n",
       " ('60', 'double'),\n",
       " ('61', 'double'),\n",
       " ('62', 'double'),\n",
       " ('63', 'double'),\n",
       " ('64', 'double'),\n",
       " ('65', 'double'),\n",
       " ('67', 'double'),\n",
       " ('69', 'double'),\n",
       " ('70', 'double'),\n",
       " ('73', 'double'),\n",
       " ('143', 'double'),\n",
       " ('144', 'double'),\n",
       " ('145', 'double')]"
      ]
     },
     "execution_count": 31,
     "metadata": {},
     "output_type": "execute_result"
    }
   ],
   "source": [
    "df_data3.dtypes"
   ]
  },
  {
   "cell_type": "markdown",
   "metadata": {},
   "source": [
    "df_data3['16'].filter(df_data3['16']> 4) = NULL"
   ]
  },
  {
   "cell_type": "code",
   "execution_count": 32,
   "metadata": {
    "collapsed": true
   },
   "outputs": [],
   "source": [
    "from pyspark.sql.functions import udf"
   ]
  },
  {
   "cell_type": "code",
   "execution_count": 33,
   "metadata": {
    "collapsed": false
   },
   "outputs": [],
   "source": [
    "from pyspark.sql.types import StringType,DoubleType"
   ]
  },
  {
   "cell_type": "code",
   "execution_count": 34,
   "metadata": {
    "collapsed": false
   },
   "outputs": [],
   "source": [
    "def addNA1(value,colname,dfspark):\n",
    "    new_column_udf=udf(lambda name: None if name > value else name, DoubleType())\n",
    "    return dfspark.withColumn(colname,new_column_udf(dfspark[colname]))"
   ]
  },
  {
   "cell_type": "code",
   "execution_count": 35,
   "metadata": {
    "collapsed": false
   },
   "outputs": [],
   "source": [
    "add_col=[[4,'16'],[10,'33'],[6,'45'],[5,'145'],[5,'67'],[5,'70'],[5,'73']]"
   ]
  },
  {
   "cell_type": "code",
   "execution_count": 36,
   "metadata": {
    "collapsed": false
   },
   "outputs": [],
   "source": [
    "test_new_df=df_data3"
   ]
  },
  {
   "cell_type": "code",
   "execution_count": 37,
   "metadata": {
    "collapsed": false
   },
   "outputs": [],
   "source": [
    "for pair in add_col:\n",
    "    value,colname=pair\n",
    "    test_new_df=addNA1(value,colname,test_new_df)\n",
    "    "
   ]
  },
  {
   "cell_type": "code",
   "execution_count": 38,
   "metadata": {
    "collapsed": false
   },
   "outputs": [
    {
     "data": {
      "text/plain": [
       "1673"
      ]
     },
     "execution_count": 38,
     "metadata": {},
     "output_type": "execute_result"
    }
   ],
   "source": [
    "df_data3.where(df_data3[\"16\"]>4).count()"
   ]
  },
  {
   "cell_type": "code",
   "execution_count": 39,
   "metadata": {
    "collapsed": false
   },
   "outputs": [
    {
     "data": {
      "text/plain": [
       "1769"
      ]
     },
     "execution_count": 39,
     "metadata": {},
     "output_type": "execute_result"
    }
   ],
   "source": [
    "test_new_df.where(test_new_df['16'].isNull()).count()"
   ]
  },
  {
   "cell_type": "code",
   "execution_count": 40,
   "metadata": {
    "collapsed": true
   },
   "outputs": [],
   "source": [
    "def addNA2(colname,dfspark):\n",
    "    new_column_udf=udf(lambda name: None if name == 5 else name, DoubleType())\n",
    "    return dfspark.withColumn(colname,new_column_udf(dfspark[colname]))"
   ]
  },
  {
   "cell_type": "code",
   "execution_count": 41,
   "metadata": {
    "collapsed": false
   },
   "outputs": [],
   "source": [
    "addna_col=[17,18,19,20,21,23,25,26,28,29,34,144]\n",
    "addna_col=map(lambda x:str(x),addna_col)"
   ]
  },
  {
   "cell_type": "code",
   "execution_count": 42,
   "metadata": {
    "collapsed": false
   },
   "outputs": [],
   "source": [
    "for colname in addna_col:\n",
    "    test_new_df=addNA2(colname,test_new_df)\n",
    "    "
   ]
  },
  {
   "cell_type": "code",
   "execution_count": 43,
   "metadata": {
    "collapsed": false
   },
   "outputs": [
    {
     "data": {
      "text/plain": [
       "[('age', 'int'),\n",
       " ('BXNT_GENDER', 'string'),\n",
       " ('BXTN_RACE', 'string'),\n",
       " ('BXTN_RELIGION', 'string'),\n",
       " ('BXTN_LANGUAGE', 'string'),\n",
       " ('BXTN_FACILITY', 'string'),\n",
       " ('BXTN_LGTH_OF_STAY', 'int'),\n",
       " ('BXTN_PAYOR_GRP', 'string'),\n",
       " ('BXTN_INCOME_DESC', 'string'),\n",
       " ('BXTN_EDUCATION_LEVEL', 'string'),\n",
       " ('PRMRY_DX_CD', 'string'),\n",
       " ('PRMRY_PROC_ID', 'string'),\n",
       " ('DRG_MPI_CD', 'int'),\n",
       " ('BNFT_PLAN_ID', 'int'),\n",
       " ('13', 'double'),\n",
       " ('14', 'double'),\n",
       " ('15', 'double'),\n",
       " ('16', 'double'),\n",
       " ('17', 'double'),\n",
       " ('18', 'double'),\n",
       " ('19', 'double'),\n",
       " ('20', 'double'),\n",
       " ('21', 'double'),\n",
       " ('22', 'double'),\n",
       " ('23', 'double'),\n",
       " ('24', 'double'),\n",
       " ('25', 'double'),\n",
       " ('26', 'double'),\n",
       " ('27', 'double'),\n",
       " ('28', 'double'),\n",
       " ('29', 'double'),\n",
       " ('30', 'double'),\n",
       " ('31', 'double'),\n",
       " ('32', 'double'),\n",
       " ('33', 'double'),\n",
       " ('34', 'double'),\n",
       " ('45', 'double'),\n",
       " ('46', 'double'),\n",
       " ('47', 'double'),\n",
       " ('48', 'double'),\n",
       " ('49', 'double'),\n",
       " ('50', 'double'),\n",
       " ('51', 'double'),\n",
       " ('52', 'double'),\n",
       " ('53', 'double'),\n",
       " ('54', 'double'),\n",
       " ('55', 'double'),\n",
       " ('56', 'double'),\n",
       " ('57', 'double'),\n",
       " ('58', 'double'),\n",
       " ('59', 'double'),\n",
       " ('60', 'double'),\n",
       " ('61', 'double'),\n",
       " ('62', 'double'),\n",
       " ('63', 'double'),\n",
       " ('64', 'double'),\n",
       " ('65', 'double'),\n",
       " ('67', 'double'),\n",
       " ('69', 'double'),\n",
       " ('70', 'double'),\n",
       " ('73', 'double'),\n",
       " ('143', 'double'),\n",
       " ('144', 'double'),\n",
       " ('145', 'double')]"
      ]
     },
     "execution_count": 43,
     "metadata": {},
     "output_type": "execute_result"
    }
   ],
   "source": [
    "test_new_df.dtypes"
   ]
  },
  {
   "cell_type": "code",
   "execution_count": 44,
   "metadata": {
    "collapsed": true
   },
   "outputs": [],
   "source": [
    "# mark all the questions, category them into topic\n",
    "# teamwork, the lower the better"
   ]
  },
  {
   "cell_type": "code",
   "execution_count": 45,
   "metadata": {
    "collapsed": true
   },
   "outputs": [],
   "source": [
    "df_teamwork=test_new_df.withColumn('teamwork',4.75 - test_new_df['45'] * 0.75 )"
   ]
  },
  {
   "cell_type": "code",
   "execution_count": 46,
   "metadata": {
    "collapsed": true
   },
   "outputs": [],
   "source": [
    "from pyspark.sql.functions import col,avg,struct"
   ]
  },
  {
   "cell_type": "code",
   "execution_count": 47,
   "metadata": {
    "collapsed": false,
    "scrolled": true
   },
   "outputs": [
    {
     "data": {
      "text/plain": [
       "[('age', 'int'),\n",
       " ('BXNT_GENDER', 'string'),\n",
       " ('BXTN_RACE', 'string'),\n",
       " ('BXTN_RELIGION', 'string'),\n",
       " ('BXTN_LANGUAGE', 'string'),\n",
       " ('BXTN_FACILITY', 'string'),\n",
       " ('BXTN_LGTH_OF_STAY', 'int'),\n",
       " ('BXTN_PAYOR_GRP', 'string'),\n",
       " ('BXTN_INCOME_DESC', 'string'),\n",
       " ('BXTN_EDUCATION_LEVEL', 'string'),\n",
       " ('PRMRY_DX_CD', 'string'),\n",
       " ('PRMRY_PROC_ID', 'string'),\n",
       " ('DRG_MPI_CD', 'int'),\n",
       " ('BNFT_PLAN_ID', 'int'),\n",
       " ('13', 'double'),\n",
       " ('14', 'double'),\n",
       " ('15', 'double'),\n",
       " ('16', 'double'),\n",
       " ('17', 'double'),\n",
       " ('18', 'double'),\n",
       " ('19', 'double'),\n",
       " ('20', 'double'),\n",
       " ('21', 'double'),\n",
       " ('22', 'double'),\n",
       " ('23', 'double'),\n",
       " ('24', 'double'),\n",
       " ('25', 'double'),\n",
       " ('26', 'double'),\n",
       " ('27', 'double'),\n",
       " ('28', 'double'),\n",
       " ('29', 'double'),\n",
       " ('30', 'double'),\n",
       " ('31', 'double'),\n",
       " ('32', 'double'),\n",
       " ('33', 'double'),\n",
       " ('34', 'double'),\n",
       " ('45', 'double'),\n",
       " ('46', 'double'),\n",
       " ('47', 'double'),\n",
       " ('48', 'double'),\n",
       " ('49', 'double'),\n",
       " ('50', 'double'),\n",
       " ('51', 'double'),\n",
       " ('52', 'double'),\n",
       " ('53', 'double'),\n",
       " ('54', 'double'),\n",
       " ('55', 'double'),\n",
       " ('56', 'double'),\n",
       " ('57', 'double'),\n",
       " ('58', 'double'),\n",
       " ('59', 'double'),\n",
       " ('60', 'double'),\n",
       " ('61', 'double'),\n",
       " ('62', 'double'),\n",
       " ('63', 'double'),\n",
       " ('64', 'double'),\n",
       " ('65', 'double'),\n",
       " ('67', 'double'),\n",
       " ('69', 'double'),\n",
       " ('70', 'double'),\n",
       " ('73', 'double'),\n",
       " ('143', 'double'),\n",
       " ('144', 'double'),\n",
       " ('145', 'double'),\n",
       " ('teamwork', 'double')]"
      ]
     },
     "execution_count": 47,
     "metadata": {},
     "output_type": "execute_result"
    }
   ],
   "source": [
    "df_teamwork.dtypes"
   ]
  },
  {
   "cell_type": "code",
   "execution_count": 48,
   "metadata": {
    "collapsed": false
   },
   "outputs": [],
   "source": [
    "df_test_avg = sqlcontext.createDataFrame(\n",
    "    [(1, None, 23.0), (None, 2, -23.0),(2,3,4.0),(None,None,None)], (\"x1\", \"x2\", \"x3\"))\n"
   ]
  },
  {
   "cell_type": "code",
   "execution_count": 49,
   "metadata": {
    "collapsed": false
   },
   "outputs": [
    {
     "name": "stdout",
     "output_type": "stream",
     "text": [
      "+----+----+-----+\n",
      "|  x1|  x2|   x3|\n",
      "+----+----+-----+\n",
      "|   1|null| 23.0|\n",
      "|null|   2|-23.0|\n",
      "|   2|   3|  4.0|\n",
      "|null|null| null|\n",
      "+----+----+-----+\n",
      "\n"
     ]
    }
   ],
   "source": [
    "df_test_avg.show()"
   ]
  },
  {
   "cell_type": "code",
   "execution_count": 50,
   "metadata": {
    "collapsed": false
   },
   "outputs": [],
   "source": [
    "avg_row=udf(lambda row:\\\n",
    "            sum([x for x in row if x!=None])/(len([x for x in row if x!=None])) if len([x for x in row if x!=None])!=0 \\\n",
    "                                              else None ,DoubleType())"
   ]
  },
  {
   "cell_type": "code",
   "execution_count": 51,
   "metadata": {
    "collapsed": false
   },
   "outputs": [],
   "source": [
    "new_df = df_test_avg.withColumn(\"avg_row\",avg_row(struct([df_test_avg[x] for x in df_test_avg.columns])))"
   ]
  },
  {
   "cell_type": "code",
   "execution_count": 52,
   "metadata": {
    "collapsed": false
   },
   "outputs": [
    {
     "name": "stdout",
     "output_type": "stream",
     "text": [
      "+----+----+-----+-------+\n",
      "|  x1|  x2|   x3|avg_row|\n",
      "+----+----+-----+-------+\n",
      "|   1|null| 23.0|   12.0|\n",
      "|null|   2|-23.0|  -10.5|\n",
      "|   2|   3|  4.0|    3.0|\n",
      "|null|null| null|   null|\n",
      "+----+----+-----+-------+\n",
      "\n"
     ]
    }
   ],
   "source": [
    "new_df.show()"
   ]
  },
  {
   "cell_type": "code",
   "execution_count": 53,
   "metadata": {
    "collapsed": false
   },
   "outputs": [],
   "source": [
    "test_nurse=df_teamwork.withColumn(\"nurse\",avg_row(struct([df_teamwork['13'],df_teamwork['14'],df_teamwork['15']])))"
   ]
  },
  {
   "cell_type": "markdown",
   "metadata": {},
   "source": [
    "test_nurse.show(2)"
   ]
  },
  {
   "cell_type": "code",
   "execution_count": 54,
   "metadata": {
    "collapsed": true
   },
   "outputs": [],
   "source": [
    "df_doctor=test_nurse.withColumn('doctor',avg_row(struct([df_teamwork['17'],df_teamwork['18'],df_teamwork['19']])))"
   ]
  },
  {
   "cell_type": "code",
   "execution_count": 55,
   "metadata": {
    "collapsed": true
   },
   "outputs": [],
   "source": [
    "df_enviroment=df_doctor.withColumn('environment',avg_row(struct([df_teamwork['20'],df_teamwork['21']])))"
   ]
  },
  {
   "cell_type": "code",
   "execution_count": 56,
   "metadata": {
    "collapsed": true
   },
   "outputs": [],
   "source": [
    "df_pain=df_enviroment.withColumn('pain',avg_row(struct([df_teamwork['25'],df_teamwork['26']])))"
   ]
  },
  {
   "cell_type": "code",
   "execution_count": 57,
   "metadata": {
    "collapsed": true
   },
   "outputs": [],
   "source": [
    "df_medication=df_pain.withColumn('medication',avg_row(struct([df_teamwork['28'],df_teamwork['29']])))"
   ]
  },
  {
   "cell_type": "code",
   "execution_count": 58,
   "metadata": {
    "collapsed": true
   },
   "outputs": [],
   "source": [
    "df_discharge=df_medication.withColumn('discharge',7-3*avg_row(struct([df_teamwork['31'],df_teamwork['32']])))"
   ]
  },
  {
   "cell_type": "code",
   "execution_count": 59,
   "metadata": {
    "collapsed": true
   },
   "outputs": [],
   "source": [
    "df_response=df_discharge.withColumn('response',avg_row(struct([df_teamwork['23'],df_teamwork['16']])))"
   ]
  },
  {
   "cell_type": "code",
   "execution_count": 60,
   "metadata": {
    "collapsed": true
   },
   "outputs": [],
   "source": [
    "df_overall=df_response.withColumn('overall',\\\n",
    "                                  (df_teamwork['33']*0.4+df_teamwork['34']+ 4.75 - df_teamwork['73'] * 0.75)/3)"
   ]
  },
  {
   "cell_type": "code",
   "execution_count": 61,
   "metadata": {
    "collapsed": false,
    "scrolled": true
   },
   "outputs": [
    {
     "data": {
      "text/plain": [
       "['age',\n",
       " 'BXNT_GENDER',\n",
       " 'BXTN_RACE',\n",
       " 'BXTN_RELIGION',\n",
       " 'BXTN_LANGUAGE',\n",
       " 'BXTN_FACILITY',\n",
       " 'BXTN_LGTH_OF_STAY',\n",
       " 'BXTN_PAYOR_GRP',\n",
       " 'BXTN_INCOME_DESC',\n",
       " 'BXTN_EDUCATION_LEVEL',\n",
       " 'PRMRY_DX_CD',\n",
       " 'PRMRY_PROC_ID',\n",
       " 'DRG_MPI_CD',\n",
       " 'BNFT_PLAN_ID',\n",
       " '13',\n",
       " '14',\n",
       " '15',\n",
       " '16',\n",
       " '17',\n",
       " '18',\n",
       " '19',\n",
       " '20',\n",
       " '21',\n",
       " '22',\n",
       " '23',\n",
       " '24',\n",
       " '25',\n",
       " '26',\n",
       " '27',\n",
       " '28',\n",
       " '29',\n",
       " '30',\n",
       " '31',\n",
       " '32',\n",
       " '33',\n",
       " '34',\n",
       " '45',\n",
       " '46',\n",
       " '47',\n",
       " '48',\n",
       " '49',\n",
       " '50',\n",
       " '51',\n",
       " '52',\n",
       " '53',\n",
       " '54',\n",
       " '55',\n",
       " '56',\n",
       " '57',\n",
       " '58',\n",
       " '59',\n",
       " '60',\n",
       " '61',\n",
       " '62',\n",
       " '63',\n",
       " '64',\n",
       " '65',\n",
       " '67',\n",
       " '69',\n",
       " '70',\n",
       " '73',\n",
       " '143',\n",
       " '144',\n",
       " '145',\n",
       " 'teamwork',\n",
       " 'nurse',\n",
       " 'doctor',\n",
       " 'environment',\n",
       " 'pain',\n",
       " 'medication',\n",
       " 'discharge',\n",
       " 'response',\n",
       " 'overall']"
      ]
     },
     "execution_count": 61,
     "metadata": {},
     "output_type": "execute_result"
    }
   ],
   "source": [
    "df_overall.columns"
   ]
  },
  {
   "cell_type": "code",
   "execution_count": 62,
   "metadata": {
    "collapsed": false
   },
   "outputs": [],
   "source": [
    "df_score=df_overall.withColumn('care',avg_row(struct([df_teamwork['143'],df_teamwork['145'],df_teamwork['144']])))"
   ]
  },
  {
   "cell_type": "code",
   "execution_count": 63,
   "metadata": {
    "collapsed": true
   },
   "outputs": [],
   "source": [
    "df_respect=df_score.withColumn('respect',4.75 -  df_teamwork['67']*0.75)"
   ]
  },
  {
   "cell_type": "code",
   "execution_count": 64,
   "metadata": {
    "collapsed": true
   },
   "outputs": [],
   "source": [
    "df_safety=df_respect.withColumn('safety',4.75 -  df_teamwork['70']*0.75)"
   ]
  },
  {
   "cell_type": "code",
   "execution_count": 65,
   "metadata": {
    "collapsed": true
   },
   "outputs": [],
   "source": [
    "df_age2=df_safety.withColumn('age2',df_teamwork['age']**2)"
   ]
  },
  {
   "cell_type": "code",
   "execution_count": 66,
   "metadata": {
    "collapsed": false,
    "scrolled": true
   },
   "outputs": [
    {
     "data": {
      "text/plain": [
       "['age',\n",
       " 'BXNT_GENDER',\n",
       " 'BXTN_RACE',\n",
       " 'BXTN_RELIGION',\n",
       " 'BXTN_LANGUAGE',\n",
       " 'BXTN_FACILITY',\n",
       " 'BXTN_LGTH_OF_STAY',\n",
       " 'BXTN_PAYOR_GRP',\n",
       " 'BXTN_INCOME_DESC',\n",
       " 'BXTN_EDUCATION_LEVEL',\n",
       " 'PRMRY_DX_CD',\n",
       " 'PRMRY_PROC_ID',\n",
       " 'DRG_MPI_CD',\n",
       " 'BNFT_PLAN_ID',\n",
       " '13',\n",
       " '14',\n",
       " '15',\n",
       " '16',\n",
       " '17',\n",
       " '18',\n",
       " '19',\n",
       " '20',\n",
       " '21',\n",
       " '22',\n",
       " '23',\n",
       " '24',\n",
       " '25',\n",
       " '26',\n",
       " '27',\n",
       " '28',\n",
       " '29',\n",
       " '30',\n",
       " '31',\n",
       " '32',\n",
       " '33',\n",
       " '34',\n",
       " '45',\n",
       " '46',\n",
       " '47',\n",
       " '48',\n",
       " '49',\n",
       " '50',\n",
       " '51',\n",
       " '52',\n",
       " '53',\n",
       " '54',\n",
       " '55',\n",
       " '56',\n",
       " '57',\n",
       " '58',\n",
       " '59',\n",
       " '60',\n",
       " '61',\n",
       " '62',\n",
       " '63',\n",
       " '64',\n",
       " '65',\n",
       " '67',\n",
       " '69',\n",
       " '70',\n",
       " '73',\n",
       " '143',\n",
       " '144',\n",
       " '145',\n",
       " 'teamwork',\n",
       " 'nurse',\n",
       " 'doctor',\n",
       " 'environment',\n",
       " 'pain',\n",
       " 'medication',\n",
       " 'discharge',\n",
       " 'response',\n",
       " 'overall',\n",
       " 'care',\n",
       " 'respect',\n",
       " 'safety',\n",
       " 'age2']"
      ]
     },
     "execution_count": 66,
     "metadata": {},
     "output_type": "execute_result"
    }
   ],
   "source": [
    "df_age2.columns"
   ]
  },
  {
   "cell_type": "code",
   "execution_count": 67,
   "metadata": {
    "collapsed": false
   },
   "outputs": [
    {
     "data": {
      "text/plain": [
       "77"
      ]
     },
     "execution_count": 67,
     "metadata": {},
     "output_type": "execute_result"
    }
   ],
   "source": [
    "len(df_age2.columns)"
   ]
  },
  {
   "cell_type": "code",
   "execution_count": 68,
   "metadata": {
    "collapsed": false
   },
   "outputs": [],
   "source": [
    "colIdSelected = [x for x in range(10)]+[x for x in range(64,77)]"
   ]
  },
  {
   "cell_type": "code",
   "execution_count": 69,
   "metadata": {
    "collapsed": false
   },
   "outputs": [
    {
     "data": {
      "text/plain": [
       "[0,\n",
       " 1,\n",
       " 2,\n",
       " 3,\n",
       " 4,\n",
       " 5,\n",
       " 6,\n",
       " 7,\n",
       " 8,\n",
       " 9,\n",
       " 64,\n",
       " 65,\n",
       " 66,\n",
       " 67,\n",
       " 68,\n",
       " 69,\n",
       " 70,\n",
       " 71,\n",
       " 72,\n",
       " 73,\n",
       " 74,\n",
       " 75,\n",
       " 76]"
      ]
     },
     "execution_count": 69,
     "metadata": {},
     "output_type": "execute_result"
    }
   ],
   "source": [
    "colIdSelected"
   ]
  },
  {
   "cell_type": "code",
   "execution_count": 70,
   "metadata": {
    "collapsed": false
   },
   "outputs": [],
   "source": [
    "colNameSelected = [df_age2.columns[x] for x in colIdSelected]"
   ]
  },
  {
   "cell_type": "code",
   "execution_count": 71,
   "metadata": {
    "collapsed": false
   },
   "outputs": [
    {
     "data": {
      "text/plain": [
       "['age',\n",
       " 'BXNT_GENDER',\n",
       " 'BXTN_RACE',\n",
       " 'BXTN_RELIGION',\n",
       " 'BXTN_LANGUAGE',\n",
       " 'BXTN_FACILITY',\n",
       " 'BXTN_LGTH_OF_STAY',\n",
       " 'BXTN_PAYOR_GRP',\n",
       " 'BXTN_INCOME_DESC',\n",
       " 'BXTN_EDUCATION_LEVEL',\n",
       " 'teamwork',\n",
       " 'nurse',\n",
       " 'doctor',\n",
       " 'environment',\n",
       " 'pain',\n",
       " 'medication',\n",
       " 'discharge',\n",
       " 'response',\n",
       " 'overall',\n",
       " 'care',\n",
       " 'respect',\n",
       " 'safety',\n",
       " 'age2']"
      ]
     },
     "execution_count": 71,
     "metadata": {},
     "output_type": "execute_result"
    }
   ],
   "source": [
    "colNameSelected"
   ]
  },
  {
   "cell_type": "code",
   "execution_count": 72,
   "metadata": {
    "collapsed": false
   },
   "outputs": [
    {
     "data": {
      "text/plain": [
       "5177"
      ]
     },
     "execution_count": 72,
     "metadata": {},
     "output_type": "execute_result"
    }
   ],
   "source": [
    "df_age2.where(df_age2['medication'].isNull()).count()"
   ]
  },
  {
   "cell_type": "code",
   "execution_count": 73,
   "metadata": {
    "collapsed": false
   },
   "outputs": [
    {
     "data": {
      "text/plain": [
       "11469"
      ]
     },
     "execution_count": 73,
     "metadata": {},
     "output_type": "execute_result"
    }
   ],
   "source": [
    "df_age2.count()"
   ]
  },
  {
   "cell_type": "code",
   "execution_count": 74,
   "metadata": {
    "collapsed": true
   },
   "outputs": [],
   "source": [
    "df_data4=df_age2.na.drop(subset=colNameSelected)"
   ]
  },
  {
   "cell_type": "code",
   "execution_count": 75,
   "metadata": {
    "collapsed": false
   },
   "outputs": [
    {
     "data": {
      "text/plain": [
       "3531"
      ]
     },
     "execution_count": 75,
     "metadata": {},
     "output_type": "execute_result"
    }
   ],
   "source": [
    "df_data4.count()"
   ]
  },
  {
   "cell_type": "code",
   "execution_count": 76,
   "metadata": {
    "collapsed": false
   },
   "outputs": [
    {
     "data": {
      "text/plain": [
       "77"
      ]
     },
     "execution_count": 76,
     "metadata": {},
     "output_type": "execute_result"
    }
   ],
   "source": [
    "len(df_data4.columns)"
   ]
  },
  {
   "cell_type": "code",
   "execution_count": 77,
   "metadata": {
    "collapsed": false
   },
   "outputs": [
    {
     "data": {
      "text/plain": [
       "2741"
      ]
     },
     "execution_count": 77,
     "metadata": {},
     "output_type": "execute_result"
    }
   ],
   "source": [
    "df_age2.where(df_age2['pain'].isNull()).count()"
   ]
  },
  {
   "cell_type": "markdown",
   "metadata": {},
   "source": [
    "#convert string to factor"
   ]
  },
  {
   "cell_type": "code",
   "execution_count": 78,
   "metadata": {
    "collapsed": true
   },
   "outputs": [],
   "source": [
    "from pyspark.ml.feature import StringIndexer"
   ]
  },
  {
   "cell_type": "code",
   "execution_count": 79,
   "metadata": {
    "collapsed": false
   },
   "outputs": [
    {
     "name": "stdout",
     "output_type": "stream",
     "text": [
      "[('id', 'bigint'), ('category', 'string')]\n",
      "+---+--------+-------------+\n",
      "| id|category|categoryIndex|\n",
      "+---+--------+-------------+\n",
      "|  0|       a|          0.0|\n",
      "|  1|       b|          2.0|\n",
      "|  2|       c|          1.0|\n",
      "|  3|       a|          0.0|\n",
      "|  4|       a|          0.0|\n",
      "|  5|       c|          1.0|\n",
      "+---+--------+-------------+\n",
      "\n"
     ]
    }
   ],
   "source": [
    "df = sqlcontext.createDataFrame(\n",
    "    [(0, \"a\"), (1, \"b\"), (2, \"c\"), (3, \"a\"), (4, \"a\"), (5, \"c\")],\n",
    "    [\"id\", \"category\"])\n",
    "print df.dtypes\n",
    "indexer = StringIndexer(inputCol=\"category\", outputCol=\"categoryIndex\")\n",
    "indexed = indexer.fit(df).transform(df)\n",
    "indexed.show()"
   ]
  },
  {
   "cell_type": "code",
   "execution_count": 80,
   "metadata": {
    "collapsed": false
   },
   "outputs": [
    {
     "data": {
      "text/plain": [
       "[('age', 'int'),\n",
       " ('BXNT_GENDER', 'string'),\n",
       " ('BXTN_RACE', 'string'),\n",
       " ('BXTN_RELIGION', 'string'),\n",
       " ('BXTN_LANGUAGE', 'string'),\n",
       " ('BXTN_FACILITY', 'string'),\n",
       " ('BXTN_LGTH_OF_STAY', 'int'),\n",
       " ('BXTN_PAYOR_GRP', 'string'),\n",
       " ('BXTN_INCOME_DESC', 'string'),\n",
       " ('BXTN_EDUCATION_LEVEL', 'string'),\n",
       " ('PRMRY_DX_CD', 'string'),\n",
       " ('PRMRY_PROC_ID', 'string'),\n",
       " ('DRG_MPI_CD', 'int'),\n",
       " ('BNFT_PLAN_ID', 'int'),\n",
       " ('13', 'double'),\n",
       " ('14', 'double'),\n",
       " ('15', 'double'),\n",
       " ('16', 'double'),\n",
       " ('17', 'double'),\n",
       " ('18', 'double'),\n",
       " ('19', 'double'),\n",
       " ('20', 'double'),\n",
       " ('21', 'double'),\n",
       " ('22', 'double'),\n",
       " ('23', 'double'),\n",
       " ('24', 'double'),\n",
       " ('25', 'double'),\n",
       " ('26', 'double'),\n",
       " ('27', 'double'),\n",
       " ('28', 'double'),\n",
       " ('29', 'double'),\n",
       " ('30', 'double'),\n",
       " ('31', 'double'),\n",
       " ('32', 'double'),\n",
       " ('33', 'double'),\n",
       " ('34', 'double'),\n",
       " ('45', 'double'),\n",
       " ('46', 'double'),\n",
       " ('47', 'double'),\n",
       " ('48', 'double'),\n",
       " ('49', 'double'),\n",
       " ('50', 'double'),\n",
       " ('51', 'double'),\n",
       " ('52', 'double'),\n",
       " ('53', 'double'),\n",
       " ('54', 'double'),\n",
       " ('55', 'double'),\n",
       " ('56', 'double'),\n",
       " ('57', 'double'),\n",
       " ('58', 'double'),\n",
       " ('59', 'double'),\n",
       " ('60', 'double'),\n",
       " ('61', 'double'),\n",
       " ('62', 'double'),\n",
       " ('63', 'double'),\n",
       " ('64', 'double'),\n",
       " ('65', 'double'),\n",
       " ('67', 'double'),\n",
       " ('69', 'double'),\n",
       " ('70', 'double'),\n",
       " ('73', 'double'),\n",
       " ('143', 'double'),\n",
       " ('144', 'double'),\n",
       " ('145', 'double'),\n",
       " ('teamwork', 'double'),\n",
       " ('nurse', 'double'),\n",
       " ('doctor', 'double'),\n",
       " ('environment', 'double'),\n",
       " ('pain', 'double'),\n",
       " ('medication', 'double'),\n",
       " ('discharge', 'double'),\n",
       " ('response', 'double'),\n",
       " ('overall', 'double'),\n",
       " ('care', 'double'),\n",
       " ('respect', 'double'),\n",
       " ('safety', 'double'),\n",
       " ('age2', 'double')]"
      ]
     },
     "execution_count": 80,
     "metadata": {},
     "output_type": "execute_result"
    }
   ],
   "source": [
    "df_data4.dtypes"
   ]
  },
  {
   "cell_type": "code",
   "execution_count": 81,
   "metadata": {
    "collapsed": false
   },
   "outputs": [
    {
     "data": {
      "text/plain": [
       "'int'"
      ]
     },
     "execution_count": 81,
     "metadata": {},
     "output_type": "execute_result"
    }
   ],
   "source": [
    "df_data4.dtypes[0][1]"
   ]
  },
  {
   "cell_type": "code",
   "execution_count": 82,
   "metadata": {
    "collapsed": false
   },
   "outputs": [],
   "source": [
    "colCat=[df_data4.dtypes[x][0] for x in range(len(df_data4.dtypes)) if df_data4.dtypes[x][1]=='string' ]"
   ]
  },
  {
   "cell_type": "code",
   "execution_count": 83,
   "metadata": {
    "collapsed": false
   },
   "outputs": [
    {
     "data": {
      "text/plain": [
       "['BXNT_GENDER',\n",
       " 'BXTN_RACE',\n",
       " 'BXTN_RELIGION',\n",
       " 'BXTN_LANGUAGE',\n",
       " 'BXTN_FACILITY',\n",
       " 'BXTN_PAYOR_GRP',\n",
       " 'BXTN_INCOME_DESC',\n",
       " 'BXTN_EDUCATION_LEVEL',\n",
       " 'PRMRY_DX_CD',\n",
       " 'PRMRY_PROC_ID']"
      ]
     },
     "execution_count": 83,
     "metadata": {},
     "output_type": "execute_result"
    }
   ],
   "source": [
    "colCat"
   ]
  },
  {
   "cell_type": "markdown",
   "metadata": {},
   "source": [
    "colCat.append('BNFT_PLAN_ID')"
   ]
  },
  {
   "cell_type": "markdown",
   "metadata": {},
   "source": [
    "colCat.append('DRG_MPI_CD')"
   ]
  },
  {
   "cell_type": "markdown",
   "metadata": {},
   "source": [
    "colCat"
   ]
  },
  {
   "cell_type": "code",
   "execution_count": 84,
   "metadata": {
    "collapsed": false
   },
   "outputs": [
    {
     "data": {
      "text/plain": [
       "array([u'F', u'M'], dtype=object)"
      ]
     },
     "execution_count": 84,
     "metadata": {},
     "output_type": "execute_result"
    }
   ],
   "source": [
    "df_data4.toPandas()['BXNT_GENDER'].unique()"
   ]
  },
  {
   "cell_type": "code",
   "execution_count": 85,
   "metadata": {
    "collapsed": false
   },
   "outputs": [],
   "source": [
    "indexer = StringIndexer(inputCol='BXNT_GENDER', outputCol='BXNT_GENDERIndex')\n",
    "indexed2 = indexer.fit(df_data4).transform(df_data4)"
   ]
  },
  {
   "cell_type": "code",
   "execution_count": 86,
   "metadata": {
    "collapsed": false
   },
   "outputs": [
    {
     "name": "stdout",
     "output_type": "stream",
     "text": [
      "BXTN_RACE BXTN_RACEIndex\n",
      "BXTN_RELIGION BXTN_RELIGIONIndex\n",
      "BXTN_LANGUAGE BXTN_LANGUAGEIndex\n",
      "BXTN_FACILITY BXTN_FACILITYIndex\n",
      "BXTN_PAYOR_GRP BXTN_PAYOR_GRPIndex\n",
      "BXTN_INCOME_DESC BXTN_INCOME_DESCIndex\n",
      "BXTN_EDUCATION_LEVEL BXTN_EDUCATION_LEVELIndex\n",
      "PRMRY_DX_CD PRMRY_DX_CDIndex\n",
      "PRMRY_PROC_ID PRMRY_PROC_IDIndex\n"
     ]
    }
   ],
   "source": [
    "for col in colCat:\n",
    "    if col != \"BXNT_GENDER\":\n",
    "        print col,col+\"Index\"\n",
    "        colIndex=col+\"Index\"\n",
    "        indexer = StringIndexer(inputCol=col, outputCol=colIndex)\n",
    "        indexed2 = indexer.fit(indexed2).transform(indexed2)\n",
    "\n",
    "    "
   ]
  },
  {
   "cell_type": "code",
   "execution_count": 87,
   "metadata": {
    "collapsed": false
   },
   "outputs": [
    {
     "data": {
      "text/plain": [
       "Row(age=68, BXNT_GENDER=u'F', BXTN_RACE=u'Caucasian', BXTN_RELIGION=u'CATHOLIC', BXTN_LANGUAGE=u'English', BXTN_FACILITY=u'PARENT MERCY HOSPITAL ST LOUIS', BXTN_LGTH_OF_STAY=4, BXTN_PAYOR_GRP=u'SELF PAY', BXTN_INCOME_DESC=u'$25,000-$34,999', BXTN_EDUCATION_LEVEL=u'HIGH SCHOOL DIPLOMA', PRMRY_DX_CD=u'174.9', PRMRY_PROC_ID=u'85.41', DRG_MPI_CD=581, BNFT_PLAN_ID=3775, 13=2.0, 14=3.0, 15=2.0, 16=2.0, 17=4.0, 18=4.0, 19=4.0, 20=2.0, 21=4.0, 22=2.0, 23=None, 24=1.0, 25=4.0, 26=4.0, 27=1.0, 28=4.0, 29=2.0, 30=1.0, 31=1.0, 32=1.0, 33=5.0, 34=2.0, 45=4.0, 46=2.0, 47=None, 48=None, 49=None, 50=None, 51=None, 52=None, 53=None, 54=None, 55=None, 56=None, 57=None, 58=None, 59=None, 60=None, 61=None, 62=None, 63=None, 64=None, 65=None, 67=3.0, 69=3.0, 70=3.0, 73=4.0, 143=3.0, 144=1.0, 145=3.0, teamwork=1.75, nurse=2.3333333333333335, doctor=4.0, environment=3.0, pain=4.0, medication=3.0, discharge=4.0, response=2.0, overall=1.9166666666666667, care=2.3333333333333335, respect=2.5, safety=2.5, age2=4624.0, BXNT_GENDERIndex=0.0, BXTN_RACEIndex=0.0, BXTN_RELIGIONIndex=0.0, BXTN_LANGUAGEIndex=0.0, BXTN_FACILITYIndex=0.0, BXTN_PAYOR_GRPIndex=1.0, BXTN_INCOME_DESCIndex=6.0, BXTN_EDUCATION_LEVELIndex=0.0, PRMRY_DX_CDIndex=128.0, PRMRY_PROC_IDIndex=492.0)"
      ]
     },
     "execution_count": 87,
     "metadata": {},
     "output_type": "execute_result"
    }
   ],
   "source": [
    "indexed2.first() "
   ]
  },
  {
   "cell_type": "code",
   "execution_count": 88,
   "metadata": {
    "collapsed": true
   },
   "outputs": [],
   "source": [
    "from pyspark.ml.regression import LinearRegression"
   ]
  },
  {
   "cell_type": "code",
   "execution_count": 130,
   "metadata": {
    "collapsed": false
   },
   "outputs": [],
   "source": [
    "lr = LinearRegression(maxIter=10)#, regParam=0.3, elasticNetParam=0.8)"
   ]
  },
  {
   "cell_type": "code",
   "execution_count": 90,
   "metadata": {
    "collapsed": true
   },
   "outputs": [],
   "source": [
    "from pyspark.mllib.regression import LabeledPoint"
   ]
  },
  {
   "cell_type": "code",
   "execution_count": 109,
   "metadata": {
    "collapsed": false
   },
   "outputs": [],
   "source": [
    "training=indexed2.select(\"teamwork\", \"nurse\",\"discharge\")\\\n",
    "  .map(lambda r: LabeledPoint(r[0], r[1:]))\n"
   ]
  },
  {
   "cell_type": "code",
   "execution_count": 110,
   "metadata": {
    "collapsed": false
   },
   "outputs": [
    {
     "data": {
      "text/plain": [
       "PythonRDD[2016] at RDD at PythonRDD.scala:43"
      ]
     },
     "execution_count": 110,
     "metadata": {},
     "output_type": "execute_result"
    }
   ],
   "source": [
    "training.cache()"
   ]
  },
  {
   "cell_type": "code",
   "execution_count": 111,
   "metadata": {
    "collapsed": false
   },
   "outputs": [
    {
     "data": {
      "text/plain": [
       "DataFrame[age: int, BXNT_GENDER: string, BXTN_RACE: string, BXTN_RELIGION: string, BXTN_LANGUAGE: string, BXTN_FACILITY: string, BXTN_LGTH_OF_STAY: int, BXTN_PAYOR_GRP: string, BXTN_INCOME_DESC: string, BXTN_EDUCATION_LEVEL: string, PRMRY_DX_CD: string, PRMRY_PROC_ID: string, DRG_MPI_CD: int, BNFT_PLAN_ID: int, 13: double, 14: double, 15: double, 16: double, 17: double, 18: double, 19: double, 20: double, 21: double, 22: double, 23: double, 24: double, 25: double, 26: double, 27: double, 28: double, 29: double, 30: double, 31: double, 32: double, 33: double, 34: double, 45: double, 46: double, 47: double, 48: double, 49: double, 50: double, 51: double, 52: double, 53: double, 54: double, 55: double, 56: double, 57: double, 58: double, 59: double, 60: double, 61: double, 62: double, 63: double, 64: double, 65: double, 67: double, 69: double, 70: double, 73: double, 143: double, 144: double, 145: double, teamwork: double, nurse: double, doctor: double, environment: double, pain: double, medication: double, discharge: double, response: double, overall: double, care: double, respect: double, safety: double, age2: double, BXNT_GENDERIndex: double, BXTN_RACEIndex: double, BXTN_RELIGIONIndex: double, BXTN_LANGUAGEIndex: double, BXTN_FACILITYIndex: double, BXTN_PAYOR_GRPIndex: double, BXTN_INCOME_DESCIndex: double, BXTN_EDUCATION_LEVELIndex: double, PRMRY_DX_CDIndex: double, PRMRY_PROC_IDIndex: double]"
      ]
     },
     "execution_count": 111,
     "metadata": {},
     "output_type": "execute_result"
    }
   ],
   "source": [
    "indexed2.cache()"
   ]
  },
  {
   "cell_type": "code",
   "execution_count": 112,
   "metadata": {
    "collapsed": false
   },
   "outputs": [
    {
     "data": {
      "text/plain": [
       "LabeledPoint(1.75, [2.33333333333,4.0])"
      ]
     },
     "execution_count": 112,
     "metadata": {},
     "output_type": "execute_result"
    }
   ],
   "source": [
    "training.first()"
   ]
  },
  {
   "cell_type": "code",
   "execution_count": 136,
   "metadata": {
    "collapsed": false
   },
   "outputs": [],
   "source": [
    "modelA = lr.fit(training.toDF(),{lr.regParam:0.0})"
   ]
  },
  {
   "cell_type": "code",
   "execution_count": 137,
   "metadata": {
    "collapsed": true
   },
   "outputs": [],
   "source": [
    "from pyspark.mllib.regression import LinearRegressionWithSGD"
   ]
  },
  {
   "cell_type": "code",
   "execution_count": 139,
   "metadata": {
    "collapsed": false
   },
   "outputs": [],
   "source": [
    "modelB=LinearRegressionWithSGD.train(training, iterations=10, step=0.1)"
   ]
  },
  {
   "cell_type": "code",
   "execution_count": 125,
   "metadata": {
    "collapsed": false
   },
   "outputs": [],
   "source": [
    "pred=modelA.transform(training.toDF())"
   ]
  },
  {
   "cell_type": "code",
   "execution_count": 126,
   "metadata": {
    "collapsed": false
   },
   "outputs": [
    {
     "data": {
      "text/plain": [
       "Row(features=DenseVector([2.3333, 4.0]), label=1.75, prediction=2.4369306310862187)"
      ]
     },
     "execution_count": 126,
     "metadata": {},
     "output_type": "execute_result"
    }
   ],
   "source": [
    "pred.first()"
   ]
  },
  {
   "cell_type": "code",
   "execution_count": 144,
   "metadata": {
    "collapsed": true
   },
   "outputs": [],
   "source": [
    "modelB.save(sc,\"/Users/Oldjun/Desktop/webapp/hospital/sparkModel.test\")"
   ]
  },
  {
   "cell_type": "code",
   "execution_count": 127,
   "metadata": {
    "collapsed": false
   },
   "outputs": [
    {
     "name": "stdout",
     "output_type": "stream",
     "text": [
      "ModelA: Root Mean Squared Error = 0.51900147363\n"
     ]
    }
   ],
   "source": [
    "from pyspark.ml.evaluation import RegressionEvaluator\n",
    "evaluator = RegressionEvaluator(metricName=\"rmse\")\n",
    "RMSE = evaluator.evaluate(pred)\n",
    "print(\"ModelA: Root Mean Squared Error = \" + str(RMSE))"
   ]
  },
  {
   "cell_type": "code",
   "execution_count": 128,
   "metadata": {
    "collapsed": false
   },
   "outputs": [
    {
     "ename": "AttributeError",
     "evalue": "'LinearRegressionModel' object has no attribute 'save'",
     "output_type": "error",
     "traceback": [
      "\u001b[0;31m---------------------------------------------------------------------------\u001b[0m",
      "\u001b[0;31mAttributeError\u001b[0m                            Traceback (most recent call last)",
      "\u001b[0;32m<ipython-input-128-8f4ad38993ae>\u001b[0m in \u001b[0;36m<module>\u001b[0;34m()\u001b[0m\n\u001b[0;32m----> 1\u001b[0;31m \u001b[0mmodelA\u001b[0m\u001b[0;34m.\u001b[0m\u001b[0msave\u001b[0m\u001b[0;34m(\u001b[0m\u001b[0msc\u001b[0m\u001b[0;34m,\u001b[0m\u001b[0;34m\"/Users/Oldjun/Desktop/webapp/hospital/sparkModel.test\"\u001b[0m\u001b[0;34m)\u001b[0m\u001b[0;34m\u001b[0m\u001b[0m\n\u001b[0m",
      "\u001b[0;31mAttributeError\u001b[0m: 'LinearRegressionModel' object has no attribute 'save'"
     ]
    }
   ],
   "source": [
    "modelA.save(sc,\"/Users/Oldjun/Desktop/webapp/hospital/sparkModel.test\")"
   ]
  },
  {
   "cell_type": "code",
   "execution_count": null,
   "metadata": {
    "collapsed": true
   },
   "outputs": [],
   "source": []
  }
 ],
 "metadata": {
  "kernelspec": {
   "display_name": "Python 2",
   "language": "python",
   "name": "python2"
  },
  "language_info": {
   "codemirror_mode": {
    "name": "ipython",
    "version": 2
   },
   "file_extension": ".py",
   "mimetype": "text/x-python",
   "name": "python",
   "nbconvert_exporter": "python",
   "pygments_lexer": "ipython2",
   "version": "2.7.12"
  }
 },
 "nbformat": 4,
 "nbformat_minor": 0
}
